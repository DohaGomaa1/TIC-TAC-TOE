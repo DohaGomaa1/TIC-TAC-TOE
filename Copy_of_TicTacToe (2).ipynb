{
 "cells": [
  {
   "cell_type": "markdown",
   "metadata": {
    "id": "aAjb_hDyTKQh"
   },
   "source": [
    "# Tic Tac Toe Game \n",
    "##### Scratch Building\n",
    "##### No GUI Required "
   ]
  },
  {
   "cell_type": "markdown",
   "metadata": {
    "id": "NG1KZg4sTKQj"
   },
   "source": [
    "#### Some suggested tools before you get started:\n",
    "To take input from a user:\n",
    "\n",
    "    player1 = input(\"Please pick a marker 'X' or 'O'\")\n",
    "    \n",
    "Note that input() takes in a string. If you need an integer value, use\n",
    "\n",
    "    position = int(input('Please enter a number'))\n",
    "    \n",
    "<br>To clear the screen between moves:\n",
    "\n",
    "    from IPython.display import clear_output\n",
    "    clear_output()\n",
    "    \n",
    "Note that clear_output() will only work in jupyter. To clear the screen in other IDEs, consider:\n",
    "\n",
    "    print('\\n'*100)\n",
    "    \n",
    "This scrolls the previous board up out of view. Now on to the program!"
   ]
  },
  {
   "cell_type": "markdown",
   "metadata": {
    "id": "eq31aKoKTKQk"
   },
   "source": [
    "**Step 1: Write a function that can print out a board. Set up your board as a list, where each index 1-9 corresponds with a number on a number pad, so you get a 3 by 3 board representation.**"
   ]
  },
  {
   "cell_type": "code",
   "execution_count": null,
   "metadata": {
    "id": "xz0LBf45GkQ3"
   },
   "outputs": [],
   "source": []
  },
  {
   "cell_type": "code",
   "execution_count": 15,
   "metadata": {
    "id": "v6oZEXZXTKQl"
   },
   "outputs": [],
   "source": [
    "from IPython.display import clear_output\n",
    "\n",
    "def display_board(board):\n",
    "    print (board[0],'|',board[1],'|',board[2])\n",
    "    print('------------')\n",
    "    print (board[3],'|',board[4],'|',board[5])\n",
    "    print('------------')\n",
    "    print (board[6],'|',board[7],'|',board[8])\n",
    "    print('------------')"
   ]
  },
  {
   "cell_type": "markdown",
   "metadata": {
    "id": "YE-nz_ETTKQo"
   },
   "source": [
    "**TEST Step 1:** run your function on a test version of the board list, and make adjustments as necessary"
   ]
  },
  {
   "cell_type": "code",
   "execution_count": 16,
   "metadata": {
    "colab": {
     "base_uri": "https://localhost:8080/",
     "height": 121
    },
    "id": "4iQ9D-u5TKQp",
    "outputId": "59ff7cb4-7211-4d99-f8bf-2ca4167db697"
   },
   "outputs": [
    {
     "name": "stdout",
     "output_type": "stream",
     "text": [
      "X | O | X\n",
      "------------\n",
      "O | X | O\n",
      "------------\n",
      "X | O | X\n",
      "------------\n"
     ]
    }
   ],
   "source": [
    "test_board = ['X','O','X','O','X','O','X','O','X']\n",
    "display_board(test_board)"
   ]
  },
  {
   "cell_type": "markdown",
   "metadata": {
    "id": "WxeUw0FhTKQr"
   },
   "source": [
    "**Step 2: Write a function that can take in a player input and assign their marker as 'X' or 'O'. Think about using *while* loops to continually ask until you get a correct answer.**"
   ]
  },
  {
   "cell_type": "markdown",
   "metadata": {
    "id": "6fVimbgzTKQu"
   },
   "source": [
    "**TEST Step 2:** run the function to make sure it returns the desired output"
   ]
  },
  {
   "cell_type": "markdown",
   "metadata": {
    "id": "aQN1q9gGTKQw"
   },
   "source": [
    "**Step 3: Write a function that takes in the board list object, a marker ('X' or 'O'), and a desired position (number 1-9) and assigns it to the board.**"
   ]
  },
  {
   "cell_type": "markdown",
   "metadata": {
    "id": "gapk660ATKQz"
   },
   "source": [
    "**TEST Step 3:** run the place marker function using test parameters and display the modified board"
   ]
  },
  {
   "cell_type": "markdown",
   "metadata": {
    "id": "vRuvrYsVTKQ2"
   },
   "source": [
    "**Step 4: Write a function that takes in a board and a mark (X or O) and then checks to see if that mark has won. **"
   ]
  },
  {
   "cell_type": "markdown",
   "metadata": {
    "id": "D9tY6vCHTKQ4"
   },
   "source": [
    "**TEST Step 4:** run the win_check function against our test_board - it should return True"
   ]
  },
  {
   "cell_type": "markdown",
   "metadata": {
    "id": "ROj56ItpTKQ7"
   },
   "source": [
    "**Step 5: Write a function that uses the random module to randomly decide which player goes first. You may want to lookup random.randint() Return a string of which player went first.**"
   ]
  },
  {
   "cell_type": "markdown",
   "metadata": {
    "id": "7H1uXKU-TKQ9"
   },
   "source": [
    "**Step 6: Write a function that returns a boolean indicating whether a space on the board is freely available.**"
   ]
  },
  {
   "cell_type": "markdown",
   "metadata": {
    "id": "TKfVJE_KTKRA"
   },
   "source": [
    "**Step 7: Write a function that checks if the board is full and returns a boolean value. True if full, False otherwise.**"
   ]
  },
  {
   "cell_type": "markdown",
   "metadata": {
    "id": "ju-R3rRATKRD"
   },
   "source": [
    "**Step 8: Write a function that asks for a player's next position (as a number 1-9) and then uses the function from step 6 to check if it's a free position. If it is, then return the position for later use.**"
   ]
  },
  {
   "cell_type": "markdown",
   "metadata": {
    "id": "E9ryWxTdTKRG"
   },
   "source": [
    "**Step 9: Write a function that asks the player if they want to play again and returns a boolean True if they do want to play again.**"
   ]
  },
  {
   "cell_type": "markdown",
   "metadata": {
    "id": "gjLdHz0MTKRI"
   },
   "source": [
    "**Step 10: Here comes the hard part! Use while loops and the functions you've made to run the game!**"
   ]
  },
  {
   "cell_type": "markdown",
   "metadata": {
    "id": "V3AlA00FTKRL"
   },
   "source": [
    "## Good Job!"
   ]
  },
  {
   "cell_type": "code",
   "execution_count": 17,
   "metadata": {},
   "outputs": [],
   "source": [
    "def space_check(board,position): \n",
    "    if board[position]==' ':\n",
    "        return True\n",
    "    else:\n",
    "        return False "
   ]
  },
  {
   "cell_type": "code",
   "execution_count": 18,
   "metadata": {
    "id": "6gWOn2b5Dr12"
   },
   "outputs": [],
   "source": [
    "def place_marker (board,letter,pos):\n",
    "    board[pos]=letter\n",
    "    return board"
   ]
  },
  {
   "cell_type": "code",
   "execution_count": null,
   "metadata": {},
   "outputs": [],
   "source": []
  },
  {
   "cell_type": "code",
   "execution_count": 19,
   "metadata": {},
   "outputs": [
    {
     "name": "stdout",
     "output_type": "stream",
     "text": [
      "X | # | X\n",
      "------------\n",
      "O | X | O\n",
      "------------\n",
      "X | O | X\n",
      "------------\n"
     ]
    }
   ],
   "source": [
    "place_marker (test_board,'#',1)\n",
    "display_board(test_board)\n"
   ]
  },
  {
   "cell_type": "code",
   "execution_count": null,
   "metadata": {
    "id": "nzGRwwkYHZtS"
   },
   "outputs": [],
   "source": []
  },
  {
   "cell_type": "code",
   "execution_count": 20,
   "metadata": {
    "id": "1YF1p-S3HQIp"
   },
   "outputs": [],
   "source": [
    "def player_input():\n",
    "    while 1:\n",
    "        letter =input('player O or X').upper()\n",
    "        if letter=='X':\n",
    "            return ('X','O')\n",
    "        elif letter=='O':\n",
    "            return ('O','X')\n",
    "        else:\n",
    "            print('not found')"
   ]
  },
  {
   "cell_type": "code",
   "execution_count": 22,
   "metadata": {},
   "outputs": [
    {
     "name": "stdin",
     "output_type": "stream",
     "text": [
      "player O or X o\n"
     ]
    },
    {
     "data": {
      "text/plain": [
       "('O', 'X')"
      ]
     },
     "execution_count": 22,
     "metadata": {},
     "output_type": "execute_result"
    }
   ],
   "source": [
    "player_input()"
   ]
  },
  {
   "cell_type": "code",
   "execution_count": 23,
   "metadata": {
    "id": "J38PBojvDnqc"
   },
   "outputs": [],
   "source": [
    "def win_check(board,letter):\n",
    "    return ((board[6]==letter and board[7]==letter and board[8]==letter) or\n",
    "           (board[3]==letter and board[4]==letter and board[5]==letter) or \n",
    "           (board[0]==letter and board[1]==letter and board[2]==letter) or \n",
    "           (board[0]==letter and board[3]==letter and board[6]==letter) or\n",
    "           (board[1]==letter and board[4]==letter and board[7]==letter) or \n",
    "           (board[2]==letter and board[5]==letter and board[8]==letter) or \n",
    "           (board[0]==letter and board[4]==letter and board[8]==letter) or\n",
    "           (board[2]==letter and board[4]==letter and board[6]==letter))"
   ]
  },
  {
   "cell_type": "code",
   "execution_count": 24,
   "metadata": {},
   "outputs": [
    {
     "data": {
      "text/plain": [
       "False"
      ]
     },
     "execution_count": 24,
     "metadata": {},
     "output_type": "execute_result"
    }
   ],
   "source": [
    "win_check(test_board,'O')"
   ]
  },
  {
   "cell_type": "code",
   "execution_count": 25,
   "metadata": {
    "id": "GkmCIGABpzd_"
   },
   "outputs": [],
   "source": [
    "def full_board_check(board):\n",
    "    return ' ' in board\n",
    "  "
   ]
  },
  {
   "cell_type": "code",
   "execution_count": 26,
   "metadata": {
    "id": "YYEO43XyI5ZL"
   },
   "outputs": [],
   "source": [
    "import random\n",
    "def choose_first():\n",
    "    x=random.randint(0,1)\n",
    "    if x==0:\n",
    "        return 'player 1' \n",
    "    else:\n",
    "        return 'player 2'  \n"
   ]
  },
  {
   "cell_type": "code",
   "execution_count": 27,
   "metadata": {},
   "outputs": [
    {
     "data": {
      "text/plain": [
       "'player 1'"
      ]
     },
     "execution_count": 27,
     "metadata": {},
     "output_type": "execute_result"
    }
   ],
   "source": [
    "choose_first()"
   ]
  },
  {
   "cell_type": "code",
   "execution_count": null,
   "metadata": {
    "id": "_kIyxagyRmPu"
   },
   "outputs": [],
   "source": []
  },
  {
   "cell_type": "code",
   "execution_count": 28,
   "metadata": {
    "id": "6i5SM2gGRsQK"
   },
   "outputs": [],
   "source": [
    "def replay():\n",
    "    x=input(' do you want play again ? enter (y or n)')\n",
    "    if x=='y':\n",
    "        return True\n",
    "    else:\n",
    "        return False  "
   ]
  },
  {
   "cell_type": "code",
   "execution_count": 29,
   "metadata": {
    "id": "qPEksrWTY1qZ"
   },
   "outputs": [],
   "source": [
    "def player_choice(board):\n",
    "    position =int(input('pleses enter the position between \"1-9\"'))\n",
    "    if position in range(1,10):\n",
    "        return position-1"
   ]
  },
  {
   "cell_type": "code",
   "execution_count": 31,
   "metadata": {},
   "outputs": [
    {
     "name": "stdin",
     "output_type": "stream",
     "text": [
      "pleses enter the position between \"1-9\" 7\n"
     ]
    },
    {
     "data": {
      "text/plain": [
       "6"
      ]
     },
     "execution_count": 31,
     "metadata": {},
     "output_type": "execute_result"
    }
   ],
   "source": [
    "player_choice(test_board)"
   ]
  },
  {
   "cell_type": "code",
   "execution_count": 32,
   "metadata": {
    "colab": {
     "base_uri": "https://localhost:8080/",
     "height": 299
    },
    "id": "QX5jSwwoY1zu",
    "outputId": "49f2f45d-2d2b-4617-f822-40d8fec2e29b"
   },
   "outputs": [
    {
     "name": "stdout",
     "output_type": "stream",
     "text": [
      "Welcome to Tic Tac Toe!\n"
     ]
    },
    {
     "name": "stdin",
     "output_type": "stream",
     "text": [
      "player O or X x\n"
     ]
    },
    {
     "name": "stdout",
     "output_type": "stream",
     "text": [
      "player 2 will go first.\n"
     ]
    },
    {
     "name": "stdin",
     "output_type": "stream",
     "text": [
      "pleses enter the position between \"1-9\" 5\n"
     ]
    },
    {
     "name": "stdout",
     "output_type": "stream",
     "text": [
      "  |   |  \n",
      "------------\n",
      "  | O |  \n",
      "------------\n",
      "  |   |  \n",
      "------------\n"
     ]
    },
    {
     "name": "stdin",
     "output_type": "stream",
     "text": [
      "pleses enter the position between \"1-9\" 6\n"
     ]
    },
    {
     "name": "stdout",
     "output_type": "stream",
     "text": [
      "  |   |  \n",
      "------------\n",
      "  | O | X\n",
      "------------\n",
      "  |   |  \n",
      "------------\n"
     ]
    },
    {
     "name": "stdin",
     "output_type": "stream",
     "text": [
      "pleses enter the position between \"1-9\" 8\n"
     ]
    },
    {
     "name": "stdout",
     "output_type": "stream",
     "text": [
      "  |   |  \n",
      "------------\n",
      "  | O | X\n",
      "------------\n",
      "  | O |  \n",
      "------------\n"
     ]
    },
    {
     "name": "stdin",
     "output_type": "stream",
     "text": [
      "pleses enter the position between \"1-9\" 1\n"
     ]
    },
    {
     "name": "stdout",
     "output_type": "stream",
     "text": [
      "X |   |  \n",
      "------------\n",
      "  | O | X\n",
      "------------\n",
      "  | O |  \n",
      "------------\n"
     ]
    },
    {
     "name": "stdin",
     "output_type": "stream",
     "text": [
      "pleses enter the position between \"1-9\" 7\n"
     ]
    },
    {
     "name": "stdout",
     "output_type": "stream",
     "text": [
      "X |   |  \n",
      "------------\n",
      "  | O | X\n",
      "------------\n",
      "O | O |  \n",
      "------------\n"
     ]
    },
    {
     "name": "stdin",
     "output_type": "stream",
     "text": [
      "pleses enter the position between \"1-9\" 4\n"
     ]
    },
    {
     "name": "stdout",
     "output_type": "stream",
     "text": [
      "X |   |  \n",
      "------------\n",
      "X | O | X\n",
      "------------\n",
      "O | O |  \n",
      "------------\n"
     ]
    },
    {
     "name": "stdin",
     "output_type": "stream",
     "text": [
      "pleses enter the position between \"1-9\" 3\n"
     ]
    },
    {
     "name": "stdout",
     "output_type": "stream",
     "text": [
      "X |   | O\n",
      "------------\n",
      "X | O | X\n",
      "------------\n",
      "O | O |  \n",
      "------------\n",
      "Congratulations! You have won the game!\n"
     ]
    },
    {
     "name": "stdin",
     "output_type": "stream",
     "text": [
      " do you want play again ? enter (y or n) 2\n"
     ]
    }
   ],
   "source": [
    "print('Welcome to Tic Tac Toe!')\n",
    "\n",
    "\n",
    "while True:\n",
    "    # Reset the board\n",
    "    from IPython.display import clear_output\n",
    "    board=[' ']*9  \n",
    "    # Choose Markers\n",
    "    letter1,letter2= player_input()\n",
    "    # Who Starts First \n",
    "    turn = choose_first()\n",
    "    print(turn + ' will go first.')\n",
    "    # Asking to Start or  End The Game\n",
    "      \n",
    "\n",
    "    while 1:\n",
    "        if turn == 'Player 1':\n",
    "            # Player1's turn.\n",
    "            position=player_choice(board)           \n",
    "            # Take His Action\n",
    "            board=place_marker (board,letter1,position)\n",
    "            \n",
    "            # Display Board\n",
    "            display_board(board)\n",
    "            # Did he Win\n",
    "            if win_check(board,letter1):\n",
    "                print('Congratulations! You have won the game!')\n",
    "                break\n",
    "\n",
    "            else:\n",
    "                if not full_board_check(board) :\n",
    "                    print('The game is a draw!')\n",
    "                    break\n",
    "                else:\n",
    "                    turn = 'Player 2'\n",
    "\n",
    "        else:\n",
    "            turn == 'Player 2'\n",
    "            # Player1's turn.\n",
    "            position=player_choice(board)           \n",
    "            # Take His Action\n",
    "            board=place_marker (board,letter2,position)\n",
    "            # Display Board \n",
    "            display_board(board)\n",
    "            # Did he Win\n",
    "            if win_check(board,letter2):\n",
    "                print('Congratulations! You have won the game!')\n",
    "                break\n",
    "\n",
    "            else:\n",
    "                if not full_board_check(board) :\n",
    "                    print('The game is a draw!')\n",
    "                    break\n",
    "                else:\n",
    "                    turn = 'Player 1'\n",
    "    # Replay ?\n",
    "    r=replay()\n",
    "    if r ==False:\n",
    "        break"
   ]
  },
  {
   "cell_type": "code",
   "execution_count": null,
   "metadata": {
    "id": "3qrzL8zlfbVU"
   },
   "outputs": [],
   "source": []
  }
 ],
 "metadata": {
  "colab": {
   "collapsed_sections": [],
   "name": "Copy of TicTacToe.ipynb",
   "provenance": []
  },
  "kernelspec": {
   "display_name": "Python 3",
   "language": "python",
   "name": "python3"
  },
  "language_info": {
   "codemirror_mode": {
    "name": "ipython",
    "version": 3
   },
   "file_extension": ".py",
   "mimetype": "text/x-python",
   "name": "python",
   "nbconvert_exporter": "python",
   "pygments_lexer": "ipython3",
   "version": "3.7.6"
  }
 },
 "nbformat": 4,
 "nbformat_minor": 4
}
